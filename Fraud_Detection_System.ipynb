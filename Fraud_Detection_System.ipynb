{
  "nbformat": 4,
  "nbformat_minor": 0,
  "metadata": {
    "colab": {
      "provenance": []
    },
    "kernelspec": {
      "name": "python3",
      "display_name": "Python 3"
    },
    "language_info": {
      "name": "python"
    }
  },
  "cells": [
    {
      "cell_type": "code",
      "execution_count": 7,
      "metadata": {
        "colab": {
          "base_uri": "https://localhost:8080/"
        },
        "id": "GDK02Evhg1Me",
        "outputId": "f2ba0d24-f091-4443-ac27-03fd6ef0ba9f"
      },
      "outputs": [
        {
          "output_type": "stream",
          "name": "stdout",
          "text": [
            "Classification Report:\n",
            "              precision    recall  f1-score   support\n",
            "\n",
            "           0       1.00      1.00      1.00     56864\n",
            "           1       0.83      0.83      0.83        98\n",
            "\n",
            "    accuracy                           1.00     56962\n",
            "   macro avg       0.91      0.91      0.91     56962\n",
            "weighted avg       1.00      1.00      1.00     56962\n",
            "\n"
          ]
        },
        {
          "output_type": "execute_result",
          "data": {
            "text/plain": [
              "['model_columns.pkl']"
            ]
          },
          "metadata": {},
          "execution_count": 7
        }
      ],
      "source": [
        "# Task 3: Fraud Detection System\n",
        "\n",
        "#import pandas as pd\n",
        "from sklearn.model_selection import train_test_split\n",
        "from sklearn.ensemble import RandomForestClassifier\n",
        "from sklearn.metrics import classification_report\n",
        "from imblearn.over_sampling import SMOTE\n",
        "import joblib\n",
        "import os\n",
        "\n",
        "# Step 2: Load the dataset (adjust path if needed)\n",
        "csv_path = '/content/creditcard.csv'  # ensure this file is in your working directory\n",
        "\n",
        "if not os.path.exists(csv_path):\n",
        "    raise FileNotFoundError(f\"File '{csv_path}' not found. Please check the path.\")\n",
        "\n",
        "df = pd.read_csv(csv_path)  # Dataset should contain a 'Class' column\n",
        "\n",
        "# Step 3: Separate features and target\n",
        "X = df.drop('Class', axis=1)\n",
        "y = df['Class']\n",
        "\n",
        "# Step 4: Split into training and testing datasets\n",
        "X_train, X_test, y_train, y_test = train_test_split(\n",
        "    X, y, test_size=0.2, random_state=42, stratify=y\n",
        ")\n",
        "\n",
        "# Step 5: Handle imbalanced data using SMOTE\n",
        "smote = SMOTE(random_state=42)\n",
        "X_train_resampled, y_train_resampled = smote.fit_resample(X_train, y_train)\n",
        "\n",
        "# Step 6: Train a Random Forest classifier\n",
        "model = RandomForestClassifier(n_estimators=100, random_state=42)\n",
        "model.fit(X_train_resampled, y_train_resampled)\n",
        "\n",
        "# Step 7: Make predictions on test data\n",
        "y_pred = model.predict(X_test)\n",
        "\n",
        "# Step 8: Evaluate model performance\n",
        "print(\"Classification Report:\")\n",
        "print(classification_report(y_test, y_pred))\n",
        "\n",
        "# Step 9: Save model and columns\n",
        "joblib.dump(model, 'fraud_model.pkl')\n",
        "joblib.dump(X.columns.tolist(), 'model_columns.pkl')\n"
      ]
    },
    {
      "cell_type": "code",
      "source": [
        "import pandas as pd\n",
        "import joblib\n",
        "\n",
        "# Load model and column names\n",
        "model = joblib.load('fraud_model.pkl')\n",
        "columns = joblib.load('model_columns.pkl')\n",
        "\n",
        "def predict_transaction(input_data):\n",
        "    if len(input_data) != len(columns):\n",
        "        raise ValueError(f\"Expected {len(columns)} features, got {len(input_data)}\")\n",
        "\n",
        "    input_df = pd.DataFrame([input_data], columns=columns)\n",
        "    prediction = model.predict(input_df)\n",
        "    return \"Fraudulent\" if prediction[0] == 1 else \"Not Fraudulent\"\n",
        "\n",
        "def main():\n",
        "    print(\"---- Fraud Detection System ----\")\n",
        "    print(f\"Please enter values for {len(columns)} features:\")\n",
        "\n",
        "    input_data = []\n",
        "    for col in columns:\n",
        "        while True:\n",
        "            try:\n",
        "                value = float(input(f\"{col}: \"))\n",
        "                input_data.append(value)\n",
        "                break\n",
        "            except ValueError:\n",
        "                print(\"Invalid input. Please enter a numeric value.\")\n",
        "\n",
        "    result = predict_transaction(input_data)\n",
        "    print(f\"\\nPrediction: {result}\")\n",
        "\n",
        "if __name__ == \"__main__\":\n",
        "    main()\n"
      ],
      "metadata": {
        "id": "p5BOWyUoxGfu"
      },
      "execution_count": null,
      "outputs": []
    }
  ]
}